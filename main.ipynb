{
 "cells": [
  {
   "cell_type": "code",
   "execution_count": 2,
   "id": "52439afa-e405-4f56-95ba-086a4d70f30b",
   "metadata": {},
   "outputs": [
    {
     "name": "stdout",
     "output_type": "stream",
     "text": [
      "Requirement already satisfied: deepface in c:\\users\\yildi\\appdata\\local\\programs\\python\\python39\\lib\\site-packages (0.0.79)"
     ]
    },
    {
     "name": "stderr",
     "output_type": "stream",
     "text": [
      "ERROR: pip's dependency resolver does not currently take into account all the packages that are installed. This behaviour is the source of the following dependency conflicts.\n",
      "astroid 2.15.5 requires typing-extensions>=4.0.0; python_version < \"3.11\", but you have typing-extensions 3.7.4.3 which is incompatible.\n",
      "async-lru 2.0.3 requires typing-extensions>=4.0.0; python_version < \"3.11\", but you have typing-extensions 3.7.4.3 which is incompatible.\n",
      "mypy 1.4.1 requires typing-extensions>=4.1.0, but you have typing-extensions 3.7.4.3 which is incompatible.\n",
      "pylint 2.17.4 requires typing-extensions>=3.10.0; python_version < \"3.10\", but you have typing-extensions 3.7.4.3 which is incompatible.\n",
      "tensorflow-intel 2.13.0 requires absl-py>=1.0.0, but you have absl-py 0.15.0 which is incompatible.\n",
      "tensorflow-intel 2.13.0 requires flatbuffers>=23.1.21, but you have flatbuffers 1.12 which is incompatible.\n",
      "tensorflow-intel 2.13.0 requires numpy<=1.24.3,>=1.22, but you have numpy 1.19.5 which is incompatible.\n",
      "tensorflow-intel 2.13.0 requires tensorboard<2.14,>=2.13, but you have tensorboard 2.11.2 which is incompatible.\n",
      "tensorflow-intel 2.13.0 requires tensorflow-estimator<2.14,>=2.13.0, but you have tensorflow-estimator 2.5.0 which is incompatible.\n"
     ]
    },
    {
     "name": "stdout",
     "output_type": "stream",
     "text": [
      "\n",
      "Requirement already satisfied: numpy>=1.14.0 in c:\\users\\yildi\\appdata\\local\\programs\\python\\python39\\lib\\site-packages (from deepface) (1.19.5)\n",
      "Requirement already satisfied: pandas>=0.23.4 in c:\\users\\yildi\\appdata\\local\\programs\\python\\python39\\lib\\site-packages (from deepface) (1.4.4)\n",
      "Requirement already satisfied: tqdm>=4.30.0 in c:\\users\\yildi\\appdata\\local\\programs\\python\\python39\\lib\\site-packages (from deepface) (4.65.0)\n",
      "Requirement already satisfied: gdown>=3.10.1 in c:\\users\\yildi\\appdata\\local\\programs\\python\\python39\\lib\\site-packages (from deepface) (4.7.1)\n",
      "Requirement already satisfied: Pillow>=5.2.0 in c:\\users\\yildi\\appdata\\local\\programs\\python\\python39\\lib\\site-packages (from deepface) (9.4.0)\n",
      "Requirement already satisfied: opencv-python>=4.5.5.64 in c:\\users\\yildi\\appdata\\local\\programs\\python\\python39\\lib\\site-packages (from deepface) (4.8.0.74)\n",
      "Requirement already satisfied: tensorflow>=1.9.0 in c:\\users\\yildi\\appdata\\local\\programs\\python\\python39\\lib\\site-packages (from deepface) (2.5.0)\n",
      "Requirement already satisfied: keras>=2.2.0 in c:\\users\\yildi\\appdata\\local\\programs\\python\\python39\\lib\\site-packages (from deepface) (2.13.1)\n",
      "Requirement already satisfied: Flask>=1.1.2 in c:\\users\\yildi\\appdata\\local\\programs\\python\\python39\\lib\\site-packages (from deepface) (2.3.2)\n",
      "Requirement already satisfied: mtcnn>=0.1.0 in c:\\users\\yildi\\appdata\\local\\programs\\python\\python39\\lib\\site-packages (from deepface) (0.1.1)\n",
      "Requirement already satisfied: retina-face>=0.0.1 in c:\\users\\yildi\\appdata\\local\\programs\\python\\python39\\lib\\site-packages (from deepface) (0.0.13)\n",
      "Requirement already satisfied: fire>=0.4.0 in c:\\users\\yildi\\appdata\\local\\programs\\python\\python39\\lib\\site-packages (from deepface) (0.5.0)\n",
      "Requirement already satisfied: gunicorn>=20.1.0 in c:\\users\\yildi\\appdata\\local\\programs\\python\\python39\\lib\\site-packages (from deepface) (20.1.0)\n",
      "Requirement already satisfied: six in c:\\users\\yildi\\appdata\\local\\programs\\python\\python39\\lib\\site-packages (from fire>=0.4.0->deepface) (1.15.0)\n",
      "Requirement already satisfied: termcolor in c:\\users\\yildi\\appdata\\local\\programs\\python\\python39\\lib\\site-packages (from fire>=0.4.0->deepface) (1.1.0)\n",
      "Requirement already satisfied: Werkzeug>=2.3.3 in c:\\users\\yildi\\appdata\\local\\programs\\python\\python39\\lib\\site-packages (from Flask>=1.1.2->deepface) (2.3.6)\n",
      "Requirement already satisfied: Jinja2>=3.1.2 in c:\\users\\yildi\\appdata\\local\\programs\\python\\python39\\lib\\site-packages (from Flask>=1.1.2->deepface) (3.1.2)\n",
      "Requirement already satisfied: itsdangerous>=2.1.2 in c:\\users\\yildi\\appdata\\local\\programs\\python\\python39\\lib\\site-packages (from Flask>=1.1.2->deepface) (2.1.2)\n",
      "Requirement already satisfied: click>=8.1.3 in c:\\users\\yildi\\appdata\\local\\programs\\python\\python39\\lib\\site-packages (from Flask>=1.1.2->deepface) (8.1.3)\n",
      "Requirement already satisfied: blinker>=1.6.2 in c:\\users\\yildi\\appdata\\local\\programs\\python\\python39\\lib\\site-packages (from Flask>=1.1.2->deepface) (1.6.2)\n",
      "Requirement already satisfied: importlib-metadata>=3.6.0 in c:\\users\\yildi\\appdata\\local\\programs\\python\\python39\\lib\\site-packages (from Flask>=1.1.2->deepface) (6.7.0)\n",
      "Requirement already satisfied: filelock in c:\\users\\yildi\\appdata\\local\\programs\\python\\python39\\lib\\site-packages (from gdown>=3.10.1->deepface) (3.12.2)\n",
      "Requirement already satisfied: requests[socks] in c:\\users\\yildi\\appdata\\local\\programs\\python\\python39\\lib\\site-packages (from gdown>=3.10.1->deepface) (2.31.0)\n",
      "Requirement already satisfied: beautifulsoup4 in c:\\users\\yildi\\appdata\\local\\programs\\python\\python39\\lib\\site-packages (from gdown>=3.10.1->deepface) (4.12.2)\n",
      "Requirement already satisfied: setuptools>=3.0 in c:\\users\\yildi\\appdata\\local\\programs\\python\\python39\\lib\\site-packages (from gunicorn>=20.1.0->deepface) (49.2.1)\n",
      "Requirement already satisfied: python-dateutil>=2.8.1 in c:\\users\\yildi\\appdata\\local\\programs\\python\\python39\\lib\\site-packages (from pandas>=0.23.4->deepface) (2.8.2)\n",
      "Requirement already satisfied: pytz>=2020.1 in c:\\users\\yildi\\appdata\\local\\programs\\python\\python39\\lib\\site-packages (from pandas>=0.23.4->deepface) (2022.7.1)\n",
      "Requirement already satisfied: absl-py~=0.10 in c:\\users\\yildi\\appdata\\local\\programs\\python\\python39\\lib\\site-packages (from tensorflow>=1.9.0->deepface) (0.15.0)\n",
      "Requirement already satisfied: astunparse~=1.6.3 in c:\\users\\yildi\\appdata\\local\\programs\\python\\python39\\lib\\site-packages (from tensorflow>=1.9.0->deepface) (1.6.3)\n",
      "Requirement already satisfied: flatbuffers~=1.12.0 in c:\\users\\yildi\\appdata\\local\\programs\\python\\python39\\lib\\site-packages (from tensorflow>=1.9.0->deepface) (1.12)\n",
      "Requirement already satisfied: google-pasta~=0.2 in c:\\users\\yildi\\appdata\\local\\programs\\python\\python39\\lib\\site-packages (from tensorflow>=1.9.0->deepface) (0.2.0)\n",
      "Requirement already satisfied: h5py~=3.1.0 in c:\\users\\yildi\\appdata\\local\\programs\\python\\python39\\lib\\site-packages (from tensorflow>=1.9.0->deepface) (3.1.0)\n",
      "Requirement already satisfied: keras-preprocessing~=1.1.2 in c:\\users\\yildi\\appdata\\local\\programs\\python\\python39\\lib\\site-packages (from tensorflow>=1.9.0->deepface) (1.1.2)\n",
      "Requirement already satisfied: opt-einsum~=3.3.0 in c:\\users\\yildi\\appdata\\local\\programs\\python\\python39\\lib\\site-packages (from tensorflow>=1.9.0->deepface) (3.3.0)\n",
      "Requirement already satisfied: protobuf>=3.9.2 in c:\\users\\yildi\\appdata\\local\\programs\\python\\python39\\lib\\site-packages (from tensorflow>=1.9.0->deepface) (3.20.3)\n",
      "Collecting typing-extensions~=3.7.4 (from tensorflow>=1.9.0->deepface)\n",
      "  Using cached typing_extensions-3.7.4.3-py3-none-any.whl (22 kB)\n",
      "Requirement already satisfied: wheel~=0.35 in c:\\users\\yildi\\appdata\\local\\programs\\python\\python39\\lib\\site-packages (from tensorflow>=1.9.0->deepface) (0.40.0)\n",
      "Requirement already satisfied: wrapt~=1.12.1 in c:\\users\\yildi\\appdata\\local\\programs\\python\\python39\\lib\\site-packages (from tensorflow>=1.9.0->deepface) (1.12.1)\n",
      "Requirement already satisfied: gast==0.4.0 in c:\\users\\yildi\\appdata\\local\\programs\\python\\python39\\lib\\site-packages (from tensorflow>=1.9.0->deepface) (0.4.0)\n",
      "Requirement already satisfied: tensorboard~=2.5 in c:\\users\\yildi\\appdata\\local\\programs\\python\\python39\\lib\\site-packages (from tensorflow>=1.9.0->deepface) (2.11.2)\n",
      "Requirement already satisfied: tensorflow-estimator<2.6.0,>=2.5.0rc0 in c:\\users\\yildi\\appdata\\local\\programs\\python\\python39\\lib\\site-packages (from tensorflow>=1.9.0->deepface) (2.5.0)\n",
      "Requirement already satisfied: keras-nightly~=2.5.0.dev in c:\\users\\yildi\\appdata\\local\\programs\\python\\python39\\lib\\site-packages (from tensorflow>=1.9.0->deepface) (2.5.0.dev2021032900)\n",
      "Requirement already satisfied: grpcio~=1.34.0 in c:\\users\\yildi\\appdata\\local\\programs\\python\\python39\\lib\\site-packages (from tensorflow>=1.9.0->deepface) (1.34.1)\n",
      "Requirement already satisfied: colorama in c:\\users\\yildi\\appdata\\local\\programs\\python\\python39\\lib\\site-packages (from tqdm>=4.30.0->deepface) (0.4.6)\n",
      "Requirement already satisfied: zipp>=0.5 in c:\\users\\yildi\\appdata\\local\\programs\\python\\python39\\lib\\site-packages (from importlib-metadata>=3.6.0->Flask>=1.1.2->deepface) (3.15.0)\n",
      "Requirement already satisfied: MarkupSafe>=2.0 in c:\\users\\yildi\\appdata\\local\\programs\\python\\python39\\lib\\site-packages (from Jinja2>=3.1.2->Flask>=1.1.2->deepface) (2.1.3)\n",
      "Requirement already satisfied: google-auth<3,>=1.6.3 in c:\\users\\yildi\\appdata\\local\\programs\\python\\python39\\lib\\site-packages (from tensorboard~=2.5->tensorflow>=1.9.0->deepface) (2.21.0)\n",
      "Requirement already satisfied: google-auth-oauthlib<0.5,>=0.4.1 in c:\\users\\yildi\\appdata\\local\\programs\\python\\python39\\lib\\site-packages (from tensorboard~=2.5->tensorflow>=1.9.0->deepface) (0.4.6)\n",
      "Requirement already satisfied: markdown>=2.6.8 in c:\\users\\yildi\\appdata\\local\\programs\\python\\python39\\lib\\site-packages (from tensorboard~=2.5->tensorflow>=1.9.0->deepface) (3.4.3)\n",
      "Requirement already satisfied: tensorboard-data-server<0.7.0,>=0.6.0 in c:\\users\\yildi\\appdata\\local\\programs\\python\\python39\\lib\\site-packages (from tensorboard~=2.5->tensorflow>=1.9.0->deepface) (0.6.1)\n",
      "Requirement already satisfied: tensorboard-plugin-wit>=1.6.0 in c:\\users\\yildi\\appdata\\local\\programs\\python\\python39\\lib\\site-packages (from tensorboard~=2.5->tensorflow>=1.9.0->deepface) (1.8.1)\n",
      "Requirement already satisfied: soupsieve>1.2 in c:\\users\\yildi\\appdata\\local\\programs\\python\\python39\\lib\\site-packages (from beautifulsoup4->gdown>=3.10.1->deepface) (2.4.1)\n",
      "Requirement already satisfied: charset-normalizer<4,>=2 in c:\\users\\yildi\\appdata\\local\\programs\\python\\python39\\lib\\site-packages (from requests[socks]->gdown>=3.10.1->deepface) (3.1.0)\n",
      "Requirement already satisfied: idna<4,>=2.5 in c:\\users\\yildi\\appdata\\local\\programs\\python\\python39\\lib\\site-packages (from requests[socks]->gdown>=3.10.1->deepface) (3.4)\n",
      "Requirement already satisfied: urllib3<3,>=1.21.1 in c:\\users\\yildi\\appdata\\local\\programs\\python\\python39\\lib\\site-packages (from requests[socks]->gdown>=3.10.1->deepface) (1.26.16)\n",
      "Requirement already satisfied: certifi>=2017.4.17 in c:\\users\\yildi\\appdata\\local\\programs\\python\\python39\\lib\\site-packages (from requests[socks]->gdown>=3.10.1->deepface) (2023.5.7)\n",
      "Requirement already satisfied: PySocks!=1.5.7,>=1.5.6 in c:\\users\\yildi\\appdata\\local\\programs\\python\\python39\\lib\\site-packages (from requests[socks]->gdown>=3.10.1->deepface) (1.7.1)\n",
      "Requirement already satisfied: cachetools<6.0,>=2.0.0 in c:\\users\\yildi\\appdata\\local\\programs\\python\\python39\\lib\\site-packages (from google-auth<3,>=1.6.3->tensorboard~=2.5->tensorflow>=1.9.0->deepface) (5.3.1)\n",
      "Requirement already satisfied: pyasn1-modules>=0.2.1 in c:\\users\\yildi\\appdata\\local\\programs\\python\\python39\\lib\\site-packages (from google-auth<3,>=1.6.3->tensorboard~=2.5->tensorflow>=1.9.0->deepface) (0.3.0)\n",
      "Requirement already satisfied: rsa<5,>=3.1.4 in c:\\users\\yildi\\appdata\\local\\programs\\python\\python39\\lib\\site-packages (from google-auth<3,>=1.6.3->tensorboard~=2.5->tensorflow>=1.9.0->deepface) (4.9)\n",
      "Requirement already satisfied: requests-oauthlib>=0.7.0 in c:\\users\\yildi\\appdata\\local\\programs\\python\\python39\\lib\\site-packages (from google-auth-oauthlib<0.5,>=0.4.1->tensorboard~=2.5->tensorflow>=1.9.0->deepface) (1.3.1)\n",
      "Requirement already satisfied: pyasn1<0.6.0,>=0.4.6 in c:\\users\\yildi\\appdata\\local\\programs\\python\\python39\\lib\\site-packages (from pyasn1-modules>=0.2.1->google-auth<3,>=1.6.3->tensorboard~=2.5->tensorflow>=1.9.0->deepface) (0.5.0)\n",
      "Requirement already satisfied: oauthlib>=3.0.0 in c:\\users\\yildi\\appdata\\local\\programs\\python\\python39\\lib\\site-packages (from requests-oauthlib>=0.7.0->google-auth-oauthlib<0.5,>=0.4.1->tensorboard~=2.5->tensorflow>=1.9.0->deepface) (3.2.2)\n",
      "Installing collected packages: typing-extensions\n",
      "  Attempting uninstall: typing-extensions\n",
      "    Found existing installation: typing_extensions 4.7.1\n",
      "    Uninstalling typing_extensions-4.7.1:\n",
      "      Successfully uninstalled typing_extensions-4.7.1\n",
      "Successfully installed typing-extensions-3.7.4.3\n"
     ]
    }
   ],
   "source": [
    "!pip install deepface"
   ]
  },
  {
   "cell_type": "code",
   "execution_count": null,
   "id": "ac5b449e-1a88-4352-906c-193b6551f82c",
   "metadata": {},
   "outputs": [],
   "source": []
  }
 ],
 "metadata": {
  "kernelspec": {
   "display_name": "Python 3 (ipykernel)",
   "language": "python",
   "name": "python3"
  },
  "language_info": {
   "codemirror_mode": {
    "name": "ipython",
    "version": 3
   },
   "file_extension": ".py",
   "mimetype": "text/x-python",
   "name": "python",
   "nbconvert_exporter": "python",
   "pygments_lexer": "ipython3",
   "version": "3.9.2"
  }
 },
 "nbformat": 4,
 "nbformat_minor": 5
}
