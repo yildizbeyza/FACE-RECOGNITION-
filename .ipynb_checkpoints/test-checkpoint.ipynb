{
 "cells": [
  {
   "cell_type": "code",
   "execution_count": 1,
   "metadata": {},
   "outputs": [
    {
     "name": "stdout",
     "output_type": "stream",
     "text": [
      "Requirement already satisfied: matplotlib in c:\\users\\yildi\\onedrive\\masaüstü\\deepface-master\\venv\\lib\\site-packages (3.7.2)\n",
      "Requirement already satisfied: contourpy>=1.0.1 in c:\\users\\yildi\\onedrive\\masaüstü\\deepface-master\\venv\\lib\\site-packages (from matplotlib) (1.1.0)\n",
      "Requirement already satisfied: cycler>=0.10 in c:\\users\\yildi\\onedrive\\masaüstü\\deepface-master\\venv\\lib\\site-packages (from matplotlib) (0.11.0)\n",
      "Requirement already satisfied: fonttools>=4.22.0 in c:\\users\\yildi\\onedrive\\masaüstü\\deepface-master\\venv\\lib\\site-packages (from matplotlib) (4.40.0)\n",
      "Requirement already satisfied: kiwisolver>=1.0.1 in c:\\users\\yildi\\onedrive\\masaüstü\\deepface-master\\venv\\lib\\site-packages (from matplotlib) (1.4.4)\n",
      "Requirement already satisfied: numpy>=1.20 in c:\\users\\yildi\\onedrive\\masaüstü\\deepface-master\\venv\\lib\\site-packages (from matplotlib) (1.24.3)\n",
      "Requirement already satisfied: packaging>=20.0 in c:\\users\\yildi\\onedrive\\masaüstü\\deepface-master\\venv\\lib\\site-packages (from matplotlib) (23.1)\n",
      "Requirement already satisfied: pillow>=6.2.0 in c:\\users\\yildi\\onedrive\\masaüstü\\deepface-master\\venv\\lib\\site-packages (from matplotlib) (10.0.0)\n",
      "Requirement already satisfied: pyparsing<3.1,>=2.3.1 in c:\\users\\yildi\\onedrive\\masaüstü\\deepface-master\\venv\\lib\\site-packages (from matplotlib) (3.0.9)\n",
      "Requirement already satisfied: python-dateutil>=2.7 in c:\\users\\yildi\\onedrive\\masaüstü\\deepface-master\\venv\\lib\\site-packages (from matplotlib) (2.8.2)\n",
      "Requirement already satisfied: importlib-resources>=3.2.0 in c:\\users\\yildi\\onedrive\\masaüstü\\deepface-master\\venv\\lib\\site-packages (from matplotlib) (6.0.0)\n",
      "Requirement already satisfied: zipp>=3.1.0 in c:\\users\\yildi\\onedrive\\masaüstü\\deepface-master\\venv\\lib\\site-packages (from importlib-resources>=3.2.0->matplotlib) (3.16.0)\n",
      "Requirement already satisfied: six>=1.5 in c:\\users\\yildi\\onedrive\\masaüstü\\deepface-master\\venv\\lib\\site-packages (from python-dateutil>=2.7->matplotlib) (1.16.0)\n",
      "Requirement already satisfied: deepface in c:\\users\\yildi\\onedrive\\masaüstü\\deepface-master\\venv\\lib\\site-packages (0.0.79)\n",
      "Requirement already satisfied: numpy>=1.14.0 in c:\\users\\yildi\\onedrive\\masaüstü\\deepface-master\\venv\\lib\\site-packages (from deepface) (1.24.3)\n",
      "Requirement already satisfied: pandas>=0.23.4 in c:\\users\\yildi\\onedrive\\masaüstü\\deepface-master\\venv\\lib\\site-packages (from deepface) (2.0.3)\n",
      "Requirement already satisfied: tqdm>=4.30.0 in c:\\users\\yildi\\onedrive\\masaüstü\\deepface-master\\venv\\lib\\site-packages (from deepface) (4.65.0)\n",
      "Requirement already satisfied: gdown>=3.10.1 in c:\\users\\yildi\\onedrive\\masaüstü\\deepface-master\\venv\\lib\\site-packages (from deepface) (4.7.1)\n",
      "Requirement already satisfied: Pillow>=5.2.0 in c:\\users\\yildi\\onedrive\\masaüstü\\deepface-master\\venv\\lib\\site-packages (from deepface) (10.0.0)\n",
      "Requirement already satisfied: opencv-python>=4.5.5.64 in c:\\users\\yildi\\onedrive\\masaüstü\\deepface-master\\venv\\lib\\site-packages (from deepface) (4.8.0.74)\n",
      "Requirement already satisfied: tensorflow>=1.9.0 in c:\\users\\yildi\\onedrive\\masaüstü\\deepface-master\\venv\\lib\\site-packages (from deepface) (2.13.0)\n",
      "Requirement already satisfied: keras>=2.2.0 in c:\\users\\yildi\\onedrive\\masaüstü\\deepface-master\\venv\\lib\\site-packages (from deepface) (2.13.1)\n",
      "Requirement already satisfied: Flask>=1.1.2 in c:\\users\\yildi\\onedrive\\masaüstü\\deepface-master\\venv\\lib\\site-packages (from deepface) (2.3.2)\n",
      "Requirement already satisfied: mtcnn>=0.1.0 in c:\\users\\yildi\\onedrive\\masaüstü\\deepface-master\\venv\\lib\\site-packages (from deepface) (0.1.1)\n",
      "Requirement already satisfied: retina-face>=0.0.1 in c:\\users\\yildi\\onedrive\\masaüstü\\deepface-master\\venv\\lib\\site-packages (from deepface) (0.0.13)\n",
      "Requirement already satisfied: fire>=0.4.0 in c:\\users\\yildi\\onedrive\\masaüstü\\deepface-master\\venv\\lib\\site-packages (from deepface) (0.5.0)\n",
      "Requirement already satisfied: gunicorn>=20.1.0 in c:\\users\\yildi\\onedrive\\masaüstü\\deepface-master\\venv\\lib\\site-packages (from deepface) (20.1.0)\n",
      "Requirement already satisfied: six in c:\\users\\yildi\\onedrive\\masaüstü\\deepface-master\\venv\\lib\\site-packages (from fire>=0.4.0->deepface) (1.16.0)\n",
      "Requirement already satisfied: termcolor in c:\\users\\yildi\\onedrive\\masaüstü\\deepface-master\\venv\\lib\\site-packages (from fire>=0.4.0->deepface) (2.3.0)\n",
      "Requirement already satisfied: Werkzeug>=2.3.3 in c:\\users\\yildi\\onedrive\\masaüstü\\deepface-master\\venv\\lib\\site-packages (from Flask>=1.1.2->deepface) (2.3.6)\n",
      "Requirement already satisfied: Jinja2>=3.1.2 in c:\\users\\yildi\\onedrive\\masaüstü\\deepface-master\\venv\\lib\\site-packages (from Flask>=1.1.2->deepface) (3.1.2)\n",
      "Requirement already satisfied: itsdangerous>=2.1.2 in c:\\users\\yildi\\onedrive\\masaüstü\\deepface-master\\venv\\lib\\site-packages (from Flask>=1.1.2->deepface) (2.1.2)\n",
      "Requirement already satisfied: click>=8.1.3 in c:\\users\\yildi\\onedrive\\masaüstü\\deepface-master\\venv\\lib\\site-packages (from Flask>=1.1.2->deepface) (8.1.4)\n",
      "Requirement already satisfied: blinker>=1.6.2 in c:\\users\\yildi\\onedrive\\masaüstü\\deepface-master\\venv\\lib\\site-packages (from Flask>=1.1.2->deepface) (1.6.2)\n",
      "Requirement already satisfied: importlib-metadata>=3.6.0 in c:\\users\\yildi\\onedrive\\masaüstü\\deepface-master\\venv\\lib\\site-packages (from Flask>=1.1.2->deepface) (6.8.0)\n",
      "Requirement already satisfied: filelock in c:\\users\\yildi\\onedrive\\masaüstü\\deepface-master\\venv\\lib\\site-packages (from gdown>=3.10.1->deepface) (3.12.2)\n",
      "Requirement already satisfied: requests[socks] in c:\\users\\yildi\\onedrive\\masaüstü\\deepface-master\\venv\\lib\\site-packages (from gdown>=3.10.1->deepface) (2.31.0)\n",
      "Requirement already satisfied: beautifulsoup4 in c:\\users\\yildi\\onedrive\\masaüstü\\deepface-master\\venv\\lib\\site-packages (from gdown>=3.10.1->deepface) (4.12.2)\n",
      "Requirement already satisfied: setuptools>=3.0 in c:\\users\\yildi\\onedrive\\masaüstü\\deepface-master\\venv\\lib\\site-packages (from gunicorn>=20.1.0->deepface) (65.5.1)\n",
      "Requirement already satisfied: python-dateutil>=2.8.2 in c:\\users\\yildi\\onedrive\\masaüstü\\deepface-master\\venv\\lib\\site-packages (from pandas>=0.23.4->deepface) (2.8.2)\n",
      "Requirement already satisfied: pytz>=2020.1 in c:\\users\\yildi\\onedrive\\masaüstü\\deepface-master\\venv\\lib\\site-packages (from pandas>=0.23.4->deepface) (2023.3)\n",
      "Requirement already satisfied: tzdata>=2022.1 in c:\\users\\yildi\\onedrive\\masaüstü\\deepface-master\\venv\\lib\\site-packages (from pandas>=0.23.4->deepface) (2023.3)\n",
      "Requirement already satisfied: tensorflow-intel==2.13.0 in c:\\users\\yildi\\onedrive\\masaüstü\\deepface-master\\venv\\lib\\site-packages (from tensorflow>=1.9.0->deepface) (2.13.0)\n",
      "Requirement already satisfied: absl-py>=1.0.0 in c:\\users\\yildi\\onedrive\\masaüstü\\deepface-master\\venv\\lib\\site-packages (from tensorflow-intel==2.13.0->tensorflow>=1.9.0->deepface) (1.4.0)\n",
      "Requirement already satisfied: astunparse>=1.6.0 in c:\\users\\yildi\\onedrive\\masaüstü\\deepface-master\\venv\\lib\\site-packages (from tensorflow-intel==2.13.0->tensorflow>=1.9.0->deepface) (1.6.3)\n",
      "Requirement already satisfied: flatbuffers>=23.1.21 in c:\\users\\yildi\\onedrive\\masaüstü\\deepface-master\\venv\\lib\\site-packages (from tensorflow-intel==2.13.0->tensorflow>=1.9.0->deepface) (23.5.26)\n",
      "Requirement already satisfied: gast<=0.4.0,>=0.2.1 in c:\\users\\yildi\\onedrive\\masaüstü\\deepface-master\\venv\\lib\\site-packages (from tensorflow-intel==2.13.0->tensorflow>=1.9.0->deepface) (0.4.0)\n",
      "Requirement already satisfied: google-pasta>=0.1.1 in c:\\users\\yildi\\onedrive\\masaüstü\\deepface-master\\venv\\lib\\site-packages (from tensorflow-intel==2.13.0->tensorflow>=1.9.0->deepface) (0.2.0)\n",
      "Requirement already satisfied: h5py>=2.9.0 in c:\\users\\yildi\\onedrive\\masaüstü\\deepface-master\\venv\\lib\\site-packages (from tensorflow-intel==2.13.0->tensorflow>=1.9.0->deepface) (3.9.0)\n",
      "Requirement already satisfied: libclang>=13.0.0 in c:\\users\\yildi\\onedrive\\masaüstü\\deepface-master\\venv\\lib\\site-packages (from tensorflow-intel==2.13.0->tensorflow>=1.9.0->deepface) (16.0.0)\n",
      "Requirement already satisfied: opt-einsum>=2.3.2 in c:\\users\\yildi\\onedrive\\masaüstü\\deepface-master\\venv\\lib\\site-packages (from tensorflow-intel==2.13.0->tensorflow>=1.9.0->deepface) (3.3.0)\n",
      "Requirement already satisfied: packaging in c:\\users\\yildi\\onedrive\\masaüstü\\deepface-master\\venv\\lib\\site-packages (from tensorflow-intel==2.13.0->tensorflow>=1.9.0->deepface) (23.1)\n",
      "Requirement already satisfied: protobuf!=4.21.0,!=4.21.1,!=4.21.2,!=4.21.3,!=4.21.4,!=4.21.5,<5.0.0dev,>=3.20.3 in c:\\users\\yildi\\onedrive\\masaüstü\\deepface-master\\venv\\lib\\site-packages (from tensorflow-intel==2.13.0->tensorflow>=1.9.0->deepface) (4.23.4)\n",
      "Requirement already satisfied: typing-extensions<4.6.0,>=3.6.6 in c:\\users\\yildi\\onedrive\\masaüstü\\deepface-master\\venv\\lib\\site-packages (from tensorflow-intel==2.13.0->tensorflow>=1.9.0->deepface) (4.5.0)\n",
      "Requirement already satisfied: wrapt>=1.11.0 in c:\\users\\yildi\\onedrive\\masaüstü\\deepface-master\\venv\\lib\\site-packages (from tensorflow-intel==2.13.0->tensorflow>=1.9.0->deepface) (1.15.0)\n",
      "Requirement already satisfied: grpcio<2.0,>=1.24.3 in c:\\users\\yildi\\onedrive\\masaüstü\\deepface-master\\venv\\lib\\site-packages (from tensorflow-intel==2.13.0->tensorflow>=1.9.0->deepface) (1.56.0)\n",
      "Requirement already satisfied: tensorboard<2.14,>=2.13 in c:\\users\\yildi\\onedrive\\masaüstü\\deepface-master\\venv\\lib\\site-packages (from tensorflow-intel==2.13.0->tensorflow>=1.9.0->deepface) (2.13.0)\n",
      "Requirement already satisfied: tensorflow-estimator<2.14,>=2.13.0 in c:\\users\\yildi\\onedrive\\masaüstü\\deepface-master\\venv\\lib\\site-packages (from tensorflow-intel==2.13.0->tensorflow>=1.9.0->deepface) (2.13.0)\n",
      "Requirement already satisfied: tensorflow-io-gcs-filesystem>=0.23.1 in c:\\users\\yildi\\onedrive\\masaüstü\\deepface-master\\venv\\lib\\site-packages (from tensorflow-intel==2.13.0->tensorflow>=1.9.0->deepface) (0.31.0)\n",
      "Requirement already satisfied: colorama in c:\\users\\yildi\\onedrive\\masaüstü\\deepface-master\\venv\\lib\\site-packages (from tqdm>=4.30.0->deepface) (0.4.6)\n",
      "Requirement already satisfied: zipp>=0.5 in c:\\users\\yildi\\onedrive\\masaüstü\\deepface-master\\venv\\lib\\site-packages (from importlib-metadata>=3.6.0->Flask>=1.1.2->deepface) (3.16.0)\n",
      "Requirement already satisfied: MarkupSafe>=2.0 in c:\\users\\yildi\\onedrive\\masaüstü\\deepface-master\\venv\\lib\\site-packages (from Jinja2>=3.1.2->Flask>=1.1.2->deepface) (2.1.3)\n",
      "Requirement already satisfied: soupsieve>1.2 in c:\\users\\yildi\\onedrive\\masaüstü\\deepface-master\\venv\\lib\\site-packages (from beautifulsoup4->gdown>=3.10.1->deepface) (2.4.1)\n",
      "Requirement already satisfied: charset-normalizer<4,>=2 in c:\\users\\yildi\\onedrive\\masaüstü\\deepface-master\\venv\\lib\\site-packages (from requests[socks]->gdown>=3.10.1->deepface) (3.2.0)\n",
      "Requirement already satisfied: idna<4,>=2.5 in c:\\users\\yildi\\onedrive\\masaüstü\\deepface-master\\venv\\lib\\site-packages (from requests[socks]->gdown>=3.10.1->deepface) (3.4)\n",
      "Requirement already satisfied: urllib3<3,>=1.21.1 in c:\\users\\yildi\\onedrive\\masaüstü\\deepface-master\\venv\\lib\\site-packages (from requests[socks]->gdown>=3.10.1->deepface) (1.26.16)\n",
      "Requirement already satisfied: certifi>=2017.4.17 in c:\\users\\yildi\\onedrive\\masaüstü\\deepface-master\\venv\\lib\\site-packages (from requests[socks]->gdown>=3.10.1->deepface) (2023.5.7)\n",
      "Requirement already satisfied: PySocks!=1.5.7,>=1.5.6 in c:\\users\\yildi\\onedrive\\masaüstü\\deepface-master\\venv\\lib\\site-packages (from requests[socks]->gdown>=3.10.1->deepface) (1.7.1)\n",
      "Requirement already satisfied: wheel<1.0,>=0.23.0 in c:\\users\\yildi\\onedrive\\masaüstü\\deepface-master\\venv\\lib\\site-packages (from astunparse>=1.6.0->tensorflow-intel==2.13.0->tensorflow>=1.9.0->deepface) (0.38.4)\n",
      "Requirement already satisfied: google-auth<3,>=1.6.3 in c:\\users\\yildi\\onedrive\\masaüstü\\deepface-master\\venv\\lib\\site-packages (from tensorboard<2.14,>=2.13->tensorflow-intel==2.13.0->tensorflow>=1.9.0->deepface) (2.22.0)\n",
      "Requirement already satisfied: google-auth-oauthlib<1.1,>=0.5 in c:\\users\\yildi\\onedrive\\masaüstü\\deepface-master\\venv\\lib\\site-packages (from tensorboard<2.14,>=2.13->tensorflow-intel==2.13.0->tensorflow>=1.9.0->deepface) (1.0.0)\n",
      "Requirement already satisfied: markdown>=2.6.8 in c:\\users\\yildi\\onedrive\\masaüstü\\deepface-master\\venv\\lib\\site-packages (from tensorboard<2.14,>=2.13->tensorflow-intel==2.13.0->tensorflow>=1.9.0->deepface) (3.4.3)\n",
      "Requirement already satisfied: tensorboard-data-server<0.8.0,>=0.7.0 in c:\\users\\yildi\\onedrive\\masaüstü\\deepface-master\\venv\\lib\\site-packages (from tensorboard<2.14,>=2.13->tensorflow-intel==2.13.0->tensorflow>=1.9.0->deepface) (0.7.1)\n",
      "Requirement already satisfied: cachetools<6.0,>=2.0.0 in c:\\users\\yildi\\onedrive\\masaüstü\\deepface-master\\venv\\lib\\site-packages (from google-auth<3,>=1.6.3->tensorboard<2.14,>=2.13->tensorflow-intel==2.13.0->tensorflow>=1.9.0->deepface) (5.3.1)\n",
      "Requirement already satisfied: pyasn1-modules>=0.2.1 in c:\\users\\yildi\\onedrive\\masaüstü\\deepface-master\\venv\\lib\\site-packages (from google-auth<3,>=1.6.3->tensorboard<2.14,>=2.13->tensorflow-intel==2.13.0->tensorflow>=1.9.0->deepface) (0.3.0)\n",
      "Requirement already satisfied: rsa<5,>=3.1.4 in c:\\users\\yildi\\onedrive\\masaüstü\\deepface-master\\venv\\lib\\site-packages (from google-auth<3,>=1.6.3->tensorboard<2.14,>=2.13->tensorflow-intel==2.13.0->tensorflow>=1.9.0->deepface) (4.9)\n",
      "Requirement already satisfied: requests-oauthlib>=0.7.0 in c:\\users\\yildi\\onedrive\\masaüstü\\deepface-master\\venv\\lib\\site-packages (from google-auth-oauthlib<1.1,>=0.5->tensorboard<2.14,>=2.13->tensorflow-intel==2.13.0->tensorflow>=1.9.0->deepface) (1.3.1)\n",
      "Requirement already satisfied: pyasn1<0.6.0,>=0.4.6 in c:\\users\\yildi\\onedrive\\masaüstü\\deepface-master\\venv\\lib\\site-packages (from pyasn1-modules>=0.2.1->google-auth<3,>=1.6.3->tensorboard<2.14,>=2.13->tensorflow-intel==2.13.0->tensorflow>=1.9.0->deepface) (0.5.0)\n",
      "Requirement already satisfied: oauthlib>=3.0.0 in c:\\users\\yildi\\onedrive\\masaüstü\\deepface-master\\venv\\lib\\site-packages (from requests-oauthlib>=0.7.0->google-auth-oauthlib<1.1,>=0.5->tensorboard<2.14,>=2.13->tensorflow-intel==2.13.0->tensorflow>=1.9.0->deepface) (3.2.2)\n",
      "Requirement already satisfied: opencv-python in c:\\users\\yildi\\onedrive\\masaüstü\\deepface-master\\venv\\lib\\site-packages (4.8.0.74)\n",
      "Requirement already satisfied: numpy>=1.17.0 in c:\\users\\yildi\\onedrive\\masaüstü\\deepface-master\\venv\\lib\\site-packages (from opencv-python) (1.24.3)\n",
      "HINT: You are attempting to install a package literally named \"requirements.txt\" (which cannot exist). Consider using the '-r' flag to install the packages listed in requirements.txtNote: you may need to restart the kernel to use updated packages.\n",
      "\n"
     ]
    },
    {
     "name": "stderr",
     "output_type": "stream",
     "text": [
      "ERROR: Could not find a version that satisfies the requirement requirements.txt (from versions: none)\n",
      "ERROR: No matching distribution found for requirements.txt\n"
     ]
    }
   ],
   "source": [
    "!pip install matplotlib\n",
    "!pip install deepface\n",
    "!pip install opencv-python\n",
    "\n",
    "%pip install requirements.txt\n"
   ]
  },
  {
   "cell_type": "code",
   "execution_count": 2,
   "metadata": {},
   "outputs": [
    {
     "ename": "FileNotFoundError",
     "evalue": "Image not found or cannot be read: img1.jpg",
     "output_type": "error",
     "traceback": [
      "\u001b[1;31m---------------------------------------------------------------------------\u001b[0m",
      "\u001b[1;31mFileNotFoundError\u001b[0m                         Traceback (most recent call last)",
      "Cell \u001b[1;32mIn[2], line 11\u001b[0m\n\u001b[0;32m      8\u001b[0m img2 \u001b[39m=\u001b[39m cv2\u001b[39m.\u001b[39mimread(img2_path)\n\u001b[0;32m     10\u001b[0m \u001b[39mif\u001b[39;00m img1 \u001b[39mis\u001b[39;00m \u001b[39mNone\u001b[39;00m:\n\u001b[1;32m---> 11\u001b[0m     \u001b[39mraise\u001b[39;00m \u001b[39mFileNotFoundError\u001b[39;00m(\u001b[39mf\u001b[39m\u001b[39m\"\u001b[39m\u001b[39mImage not found or cannot be read: \u001b[39m\u001b[39m{\u001b[39;00mimg1_path\u001b[39m}\u001b[39;00m\u001b[39m\"\u001b[39m)\n\u001b[0;32m     12\u001b[0m \u001b[39mif\u001b[39;00m img2 \u001b[39mis\u001b[39;00m \u001b[39mNone\u001b[39;00m:\n\u001b[0;32m     13\u001b[0m     \u001b[39mraise\u001b[39;00m \u001b[39mFileNotFoundError\u001b[39;00m(\u001b[39mf\u001b[39m\u001b[39m\"\u001b[39m\u001b[39mImage not found or cannot be read: \u001b[39m\u001b[39m{\u001b[39;00mimg2_path\u001b[39m}\u001b[39;00m\u001b[39m\"\u001b[39m)\n",
      "\u001b[1;31mFileNotFoundError\u001b[0m: Image not found or cannot be read: img1.jpg"
     ]
    }
   ],
   "source": [
    "import cv2\n",
    "import matplotlib.pyplot as plt\n",
    "\n",
    "img1_path = \"img1.jpg\"\n",
    "img2_path = \"img2.jpg\"\n",
    "\n",
    "img1 = cv2.imread(img1_path)\n",
    "img2 = cv2.imread(img2_path)\n",
    "\n",
    "if img1 is None:\n",
    "    raise FileNotFoundError(f\"Image not found or cannot be read: {img1_path}\")\n",
    "if img2 is None:\n",
    "    raise FileNotFoundError(f\"Image not found or cannot be read: {img2_path}\")\n",
    "\n",
    "plt.imshow(img1[:, :, ::-1])\n",
    "plt.show()\n",
    "plt.imshow(img2[:, :, ::-1])\n",
    "plt.show()\n"
   ]
  },
  {
   "cell_type": "code",
   "execution_count": null,
   "metadata": {},
   "outputs": [],
   "source": [
    "from deepface import DeepFace\n",
    "import cv2\n",
    "import matplotlib.pyplot as plt\n",
    "\n",
    "img1_path = \"img1.jpg\"\n",
    "img2_path = \"img2.jpg\"\n",
    "\n",
    "img1 = cv2.imread(img1_path)\n",
    "img2 = cv2.imread(img2_path)\n",
    "\n",
    "plt.imshow(img1[:, :, ::-1])\n",
    "plt.show()\n",
    "plt.imshow(img2[:, :, ::-1])\n",
    "plt.show()\n",
    "\n",
    "result = DeepFace.verify(img1_path, img2_path)"
   ]
  }
 ],
 "metadata": {
  "kernelspec": {
   "display_name": "venv",
   "language": "python",
   "name": "python3"
  },
  "language_info": {
   "codemirror_mode": {
    "name": "ipython",
    "version": 3
   },
   "file_extension": ".py",
   "mimetype": "text/x-python",
   "name": "python",
   "nbconvert_exporter": "python",
   "pygments_lexer": "ipython3",
   "version": "3.9.2"
  },
  "orig_nbformat": 4
 },
 "nbformat": 4,
 "nbformat_minor": 2
}
